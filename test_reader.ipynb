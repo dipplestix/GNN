{
 "cells": [
  {
   "cell_type": "code",
   "execution_count": 1,
   "metadata": {
    "collapsed": true
   },
   "outputs": [],
   "source": [
    "from utilities.data_functions import read_col_file"
   ]
  },
  {
   "cell_type": "code",
   "execution_count": 10,
   "outputs": [],
   "source": [
    "import torch\n",
    "\n",
    "\n",
    "def read_col_file(filename):\n",
    "    edges = []\n",
    "    node_colors = {}\n",
    "    with open(filename) as f:\n",
    "        for line in f:\n",
    "            parts = line.split()\n",
    "            if parts[0] == 'e':\n",
    "                n1, n2 = int(parts[1]), int(parts[2])\n",
    "                edges.append((n1, n2))\n",
    "                edges.append((n2, n1))\n",
    "            elif parts[0] == 'f':\n",
    "                n = int(parts[1])\n",
    "                colors = [int(c) for c in parts[2:]]\n",
    "                node_colors[n] = colors\n",
    "    return edges, node_colors\n",
    "\n",
    "\n",
    "def build_edge_list(n, edges):\n",
    "    edge_index = torch.zeros((2, len(edges)), dtype=torch.long)\n",
    "    for i, (n1, n2) in enumerate(edges):\n",
    "        edge_index[0][i] = n1-1\n",
    "        edge_index[1][i] = n2-1\n",
    "    return edge_index\n",
    "\n",
    "\n",
    "def build_color_list(n, node_colors):\n",
    "    color_list = []\n",
    "    for i in range(n):\n",
    "        if i+1 in node_colors:\n",
    "            color_list.append(torch.tensor(node_colors[i+1]))\n",
    "        else:\n",
    "            color_list.append(None)\n",
    "    return color_list\n",
    "\n",
    "\n",
    "def col_to_edge_list(filename):\n",
    "    edges, node_colors = read_col_file(filename)\n",
    "    n = max(max(e) for e in edges)\n",
    "    edge_index = build_edge_list(n, edges)\n",
    "    color_list = build_color_list(n, node_colors)\n",
    "    return edge_index, color_list\n"
   ],
   "metadata": {
    "collapsed": false
   }
  },
  {
   "cell_type": "code",
   "execution_count": 11,
   "outputs": [],
   "source": [
    "edge_list, col_list = col_to_edge_list('data/DSJC125.1.col')"
   ],
   "metadata": {
    "collapsed": false
   }
  },
  {
   "cell_type": "code",
   "execution_count": 12,
   "outputs": [
    {
     "data": {
      "text/plain": "torch.Size([2, 1472])"
     },
     "execution_count": 12,
     "metadata": {},
     "output_type": "execute_result"
    }
   ],
   "source": [
    "edge_list.shape"
   ],
   "metadata": {
    "collapsed": false
   }
  },
  {
   "cell_type": "code",
   "execution_count": 14,
   "outputs": [
    {
     "data": {
      "text/plain": "tensor(4)"
     },
     "execution_count": 14,
     "metadata": {},
     "output_type": "execute_result"
    }
   ],
   "source": [
    "edge_list[0][0]"
   ],
   "metadata": {
    "collapsed": false
   }
  },
  {
   "cell_type": "code",
   "execution_count": 15,
   "outputs": [
    {
     "data": {
      "text/plain": "tensor(0)"
     },
     "execution_count": 15,
     "metadata": {},
     "output_type": "execute_result"
    }
   ],
   "source": [
    "edge_list[1][0]\n"
   ],
   "metadata": {
    "collapsed": false
   }
  },
  {
   "cell_type": "code",
   "execution_count": null,
   "outputs": [],
   "source": [],
   "metadata": {
    "collapsed": false
   }
  }
 ],
 "metadata": {
  "kernelspec": {
   "display_name": "Python 3",
   "language": "python",
   "name": "python3"
  },
  "language_info": {
   "codemirror_mode": {
    "name": "ipython",
    "version": 2
   },
   "file_extension": ".py",
   "mimetype": "text/x-python",
   "name": "python",
   "nbconvert_exporter": "python",
   "pygments_lexer": "ipython2",
   "version": "2.7.6"
  }
 },
 "nbformat": 4,
 "nbformat_minor": 0
}
