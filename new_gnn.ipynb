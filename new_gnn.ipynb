{
 "cells": [
  {
   "cell_type": "code",
   "execution_count": 2,
   "metadata": {
    "collapsed": true
   },
   "outputs": [],
   "source": [
    "import torch\n",
    "from utilities.helpers import *\n",
    "from algorithms.gat import GAT\n",
    "from algorithms.graphsage import GraphSAGE\n",
    "from algorithms.gcn import GCN"
   ]
  },
  {
   "cell_type": "code",
   "execution_count": 3,
   "outputs": [
    {
     "name": "stderr",
     "output_type": "stream",
     "text": [
      "Downloading https://github.com/kimiyoung/planetoid/raw/master/data/ind.cora.x\n",
      "Downloading https://github.com/kimiyoung/planetoid/raw/master/data/ind.cora.tx\n",
      "Downloading https://github.com/kimiyoung/planetoid/raw/master/data/ind.cora.allx\n",
      "Downloading https://github.com/kimiyoung/planetoid/raw/master/data/ind.cora.y\n",
      "Downloading https://github.com/kimiyoung/planetoid/raw/master/data/ind.cora.ty\n",
      "Downloading https://github.com/kimiyoung/planetoid/raw/master/data/ind.cora.ally\n",
      "Downloading https://github.com/kimiyoung/planetoid/raw/master/data/ind.cora.graph\n",
      "Downloading https://github.com/kimiyoung/planetoid/raw/master/data/ind.cora.test.index\n",
      "Processing...\n",
      "Done!\n"
     ]
    }
   ],
   "source": [
    "device = get_device()\n",
    "data = load_cora(device)"
   ],
   "metadata": {
    "collapsed": false
   }
  },
  {
   "cell_type": "code",
   "execution_count": 4,
   "outputs": [],
   "source": [
    "%%capture captured_output\n",
    "\n",
    "\n",
    "input_dim = data.x.shape[1]\n",
    "num_classes = len(torch.unique(data.y))\n",
    "\n",
    "accuracies = []\n",
    "for num_epochs in [100*(i+1) for i in range(10)]:\n",
    "    model = GCN(input_dim, 64, num_classes, 2).to(device)\n",
    "    model = train(data, model, num_epochs)\n",
    "    accuracy = evaluate(model, data)\n",
    "    accuracies.append(accuracy)"
   ],
   "metadata": {
    "collapsed": false
   }
  },
  {
   "cell_type": "code",
   "execution_count": 5,
   "outputs": [
    {
     "data": {
      "text/plain": "[0.711, 0.78, 0.816, 0.821, 0.817, 0.814, 0.815, 0.823, 0.812, 0.816]"
     },
     "execution_count": 5,
     "metadata": {},
     "output_type": "execute_result"
    }
   ],
   "source": [
    "accuracies"
   ],
   "metadata": {
    "collapsed": false
   }
  },
  {
   "cell_type": "code",
   "execution_count": 6,
   "outputs": [],
   "source": [
    "%%capture captured_output\n",
    "\n",
    "\n",
    "input_dim = data.x.shape[1]\n",
    "num_classes = len(torch.unique(data.y))\n",
    "\n",
    "accuracies = []\n",
    "for num_epochs in [100*(i+1) for i in range(10)]:\n",
    "    model = GraphSAGE(input_dim, 64, num_classes, 2, 'mean').to(device)\n",
    "    model = train(data, model, num_epochs)\n",
    "    accuracy = evaluate(model, data)\n",
    "    accuracies.append(accuracy)"
   ],
   "metadata": {
    "collapsed": false
   }
  },
  {
   "cell_type": "code",
   "execution_count": 7,
   "outputs": [
    {
     "data": {
      "text/plain": "[0.565, 0.779, 0.809, 0.797, 0.814, 0.804, 0.802, 0.797, 0.811, 0.798]"
     },
     "execution_count": 7,
     "metadata": {},
     "output_type": "execute_result"
    }
   ],
   "source": [
    "accuracies"
   ],
   "metadata": {
    "collapsed": false
   }
  },
  {
   "cell_type": "code",
   "execution_count": 8,
   "outputs": [],
   "source": [
    "%%capture captured_output\n",
    "\n",
    "\n",
    "input_dim = data.x.shape[1]\n",
    "num_classes = len(torch.unique(data.y))\n",
    "\n",
    "accuracies = []\n",
    "for num_epochs in [100*(i+1) for i in range(10)]:\n",
    "    model = GAT(input_dim, 8, num_classes, 8, alpha=0.2).to(device)\n",
    "    model = train(data, model, num_epochs)\n",
    "    accuracy = evaluate(model, data)\n",
    "    accuracies.append(accuracy)"
   ],
   "metadata": {
    "collapsed": false
   }
  },
  {
   "cell_type": "code",
   "execution_count": 9,
   "outputs": [
    {
     "data": {
      "text/plain": "[0.789, 0.794, 0.808, 0.809, 0.813, 0.818, 0.814, 0.824, 0.816, 0.821]"
     },
     "execution_count": 9,
     "metadata": {},
     "output_type": "execute_result"
    }
   ],
   "source": [
    "accuracies"
   ],
   "metadata": {
    "collapsed": false
   }
  },
  {
   "cell_type": "code",
   "execution_count": null,
   "outputs": [],
   "source": [],
   "metadata": {
    "collapsed": false
   }
  }
 ],
 "metadata": {
  "kernelspec": {
   "display_name": "Python 3",
   "language": "python",
   "name": "python3"
  },
  "language_info": {
   "codemirror_mode": {
    "name": "ipython",
    "version": 2
   },
   "file_extension": ".py",
   "mimetype": "text/x-python",
   "name": "python",
   "nbconvert_exporter": "python",
   "pygments_lexer": "ipython2",
   "version": "2.7.6"
  }
 },
 "nbformat": 4,
 "nbformat_minor": 0
}
