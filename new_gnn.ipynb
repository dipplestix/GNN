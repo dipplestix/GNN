{
 "cells": [
  {
   "cell_type": "code",
   "execution_count": 1,
   "metadata": {
    "collapsed": true
   },
   "outputs": [],
   "source": [
    "from helpers import *"
   ]
  },
  {
   "cell_type": "code",
   "execution_count": 2,
   "outputs": [],
   "source": [
    "device = get_device()\n",
    "data = load_cora(device)"
   ],
   "metadata": {
    "collapsed": false
   }
  },
  {
   "cell_type": "code",
   "execution_count": 3,
   "outputs": [],
   "source": [
    "%%capture captured_output\n",
    "\n",
    "from gcn import GCN\n",
    "\n",
    "input_dim = data.x.shape[1]\n",
    "num_classes = len(torch.unique(data.y))\n",
    "\n",
    "accuracies = []\n",
    "for num_epochs in [100*(i+1) for i in range(10)]:\n",
    "    model = GCN(input_dim, 64, num_classes, 2).to(device)\n",
    "    model = train(data, model, num_epochs)\n",
    "    accuracy = evaluate(model, data)\n",
    "    accuracies.append(accuracy)"
   ],
   "metadata": {
    "collapsed": false
   }
  },
  {
   "cell_type": "code",
   "execution_count": 4,
   "outputs": [
    {
     "data": {
      "text/plain": "[0.684, 0.78, 0.812, 0.818, 0.821, 0.814, 0.815, 0.815, 0.814, 0.811]"
     },
     "execution_count": 4,
     "metadata": {},
     "output_type": "execute_result"
    }
   ],
   "source": [
    "accuracies"
   ],
   "metadata": {
    "collapsed": false
   }
  },
  {
   "cell_type": "code",
   "execution_count": 5,
   "outputs": [],
   "source": [
    "%%capture captured_output\n",
    "\n",
    "from graphsage import GraphSAGE\n",
    "\n",
    "input_dim = data.x.shape[1]\n",
    "num_classes = len(torch.unique(data.y))\n",
    "\n",
    "accuracies = []\n",
    "for num_epochs in [100*(i+1) for i in range(10)]:\n",
    "    model = GraphSAGE(input_dim, 64, num_classes, 2, 'mean').to(device)\n",
    "    model = train(data, model, num_epochs)\n",
    "    accuracy = evaluate(model, data)\n",
    "    accuracies.append(accuracy)"
   ],
   "metadata": {
    "collapsed": false
   }
  },
  {
   "cell_type": "code",
   "execution_count": 6,
   "outputs": [
    {
     "data": {
      "text/plain": "[0.618, 0.794, 0.811, 0.801, 0.806, 0.813, 0.8, 0.796, 0.793, 0.8]"
     },
     "execution_count": 6,
     "metadata": {},
     "output_type": "execute_result"
    }
   ],
   "source": [
    "accuracies"
   ],
   "metadata": {
    "collapsed": false
   }
  },
  {
   "cell_type": "code",
   "execution_count": 7,
   "outputs": [],
   "source": [
    "%%capture captured_output\n",
    "\n",
    "from gat import GAT\n",
    "\n",
    "input_dim = data.x.shape[1]\n",
    "num_classes = len(torch.unique(data.y))\n",
    "\n",
    "accuracies = []\n",
    "for num_epochs in [100*(i+1) for i in range(10)]:\n",
    "    model = GAT(input_dim, 8, num_classes, 8, alpha=0.2).to(device)\n",
    "    model = train(data, model, num_epochs)\n",
    "    accuracy = evaluate(model, data)\n",
    "    accuracies.append(accuracy)"
   ],
   "metadata": {
    "collapsed": false
   }
  },
  {
   "cell_type": "code",
   "execution_count": 8,
   "outputs": [
    {
     "data": {
      "text/plain": "[0.724, 0.768, 0.81, 0.817, 0.805, 0.816, 0.823, 0.817, 0.821, 0.821]"
     },
     "execution_count": 8,
     "metadata": {},
     "output_type": "execute_result"
    }
   ],
   "source": [
    "accuracies"
   ],
   "metadata": {
    "collapsed": false
   }
  },
  {
   "cell_type": "code",
   "execution_count": null,
   "outputs": [],
   "source": [],
   "metadata": {
    "collapsed": false
   }
  }
 ],
 "metadata": {
  "kernelspec": {
   "display_name": "Python 3",
   "language": "python",
   "name": "python3"
  },
  "language_info": {
   "codemirror_mode": {
    "name": "ipython",
    "version": 2
   },
   "file_extension": ".py",
   "mimetype": "text/x-python",
   "name": "python",
   "nbconvert_exporter": "python",
   "pygments_lexer": "ipython2",
   "version": "2.7.6"
  }
 },
 "nbformat": 4,
 "nbformat_minor": 0
}
